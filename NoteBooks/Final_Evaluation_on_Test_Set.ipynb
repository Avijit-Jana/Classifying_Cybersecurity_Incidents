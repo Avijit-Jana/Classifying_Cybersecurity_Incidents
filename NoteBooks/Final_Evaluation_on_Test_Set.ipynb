{
 "cells": [
  {
   "cell_type": "markdown",
   "metadata": {},
   "source": [
    "# Load The Test Dataset "
   ]
  },
  {
   "cell_type": "code",
   "execution_count": null,
   "metadata": {},
   "outputs": [],
   "source": [
    "import pandas as pd\n",
    "import numpy as np\n",
    "\n",
    "df = pd.read_csv('../Project Info/Dataset/GUIDE_Test.csv')"
   ]
  },
  {
   "cell_type": "code",
   "execution_count": 2,
   "metadata": {},
   "outputs": [
    {
     "data": {
      "text/html": [
       "<div>\n",
       "<style scoped>\n",
       "    .dataframe tbody tr th:only-of-type {\n",
       "        vertical-align: middle;\n",
       "    }\n",
       "\n",
       "    .dataframe tbody tr th {\n",
       "        vertical-align: top;\n",
       "    }\n",
       "\n",
       "    .dataframe thead th {\n",
       "        text-align: right;\n",
       "    }\n",
       "</style>\n",
       "<table border=\"1\" class=\"dataframe\">\n",
       "  <thead>\n",
       "    <tr style=\"text-align: right;\">\n",
       "      <th></th>\n",
       "      <th>Id</th>\n",
       "      <th>OrgId</th>\n",
       "      <th>IncidentId</th>\n",
       "      <th>AlertId</th>\n",
       "      <th>Timestamp</th>\n",
       "      <th>DetectorId</th>\n",
       "      <th>AlertTitle</th>\n",
       "      <th>Category</th>\n",
       "      <th>MitreTechniques</th>\n",
       "      <th>IncidentGrade</th>\n",
       "      <th>...</th>\n",
       "      <th>Roles</th>\n",
       "      <th>OSFamily</th>\n",
       "      <th>OSVersion</th>\n",
       "      <th>AntispamDirection</th>\n",
       "      <th>SuspicionLevel</th>\n",
       "      <th>LastVerdict</th>\n",
       "      <th>CountryCode</th>\n",
       "      <th>State</th>\n",
       "      <th>City</th>\n",
       "      <th>Usage</th>\n",
       "    </tr>\n",
       "  </thead>\n",
       "  <tbody>\n",
       "    <tr>\n",
       "      <th>0</th>\n",
       "      <td>1245540519230</td>\n",
       "      <td>657</td>\n",
       "      <td>11767</td>\n",
       "      <td>87199</td>\n",
       "      <td>2024-06-04T22:56:27.000Z</td>\n",
       "      <td>524</td>\n",
       "      <td>563</td>\n",
       "      <td>LateralMovement</td>\n",
       "      <td>T1021;T1047;T1105;T1569.002</td>\n",
       "      <td>BenignPositive</td>\n",
       "      <td>...</td>\n",
       "      <td>NaN</td>\n",
       "      <td>5</td>\n",
       "      <td>66</td>\n",
       "      <td>NaN</td>\n",
       "      <td>Suspicious</td>\n",
       "      <td>Suspicious</td>\n",
       "      <td>242</td>\n",
       "      <td>1445</td>\n",
       "      <td>10630</td>\n",
       "      <td>Private</td>\n",
       "    </tr>\n",
       "    <tr>\n",
       "      <th>1</th>\n",
       "      <td>1400159342154</td>\n",
       "      <td>3</td>\n",
       "      <td>91158</td>\n",
       "      <td>632273</td>\n",
       "      <td>2024-06-03T12:58:26.000Z</td>\n",
       "      <td>2</td>\n",
       "      <td>2</td>\n",
       "      <td>CommandAndControl</td>\n",
       "      <td>NaN</td>\n",
       "      <td>BenignPositive</td>\n",
       "      <td>...</td>\n",
       "      <td>NaN</td>\n",
       "      <td>0</td>\n",
       "      <td>0</td>\n",
       "      <td>NaN</td>\n",
       "      <td>Suspicious</td>\n",
       "      <td>Suspicious</td>\n",
       "      <td>242</td>\n",
       "      <td>1445</td>\n",
       "      <td>10630</td>\n",
       "      <td>Public</td>\n",
       "    </tr>\n",
       "    <tr>\n",
       "      <th>2</th>\n",
       "      <td>1279900255923</td>\n",
       "      <td>145</td>\n",
       "      <td>32247</td>\n",
       "      <td>131719</td>\n",
       "      <td>2024-06-08T03:20:49.000Z</td>\n",
       "      <td>2932</td>\n",
       "      <td>10807</td>\n",
       "      <td>LateralMovement</td>\n",
       "      <td>T1021;T1027.002;T1027.005;T1105</td>\n",
       "      <td>BenignPositive</td>\n",
       "      <td>...</td>\n",
       "      <td>NaN</td>\n",
       "      <td>5</td>\n",
       "      <td>66</td>\n",
       "      <td>NaN</td>\n",
       "      <td>Suspicious</td>\n",
       "      <td>Suspicious</td>\n",
       "      <td>242</td>\n",
       "      <td>1445</td>\n",
       "      <td>10630</td>\n",
       "      <td>Public</td>\n",
       "    </tr>\n",
       "    <tr>\n",
       "      <th>3</th>\n",
       "      <td>60129547292</td>\n",
       "      <td>222</td>\n",
       "      <td>15294</td>\n",
       "      <td>917686</td>\n",
       "      <td>2024-06-12T12:07:31.000Z</td>\n",
       "      <td>0</td>\n",
       "      <td>0</td>\n",
       "      <td>InitialAccess</td>\n",
       "      <td>T1078;T1078.004</td>\n",
       "      <td>FalsePositive</td>\n",
       "      <td>...</td>\n",
       "      <td>NaN</td>\n",
       "      <td>5</td>\n",
       "      <td>66</td>\n",
       "      <td>NaN</td>\n",
       "      <td>NaN</td>\n",
       "      <td>NaN</td>\n",
       "      <td>242</td>\n",
       "      <td>1445</td>\n",
       "      <td>10630</td>\n",
       "      <td>Public</td>\n",
       "    </tr>\n",
       "    <tr>\n",
       "      <th>4</th>\n",
       "      <td>515396080539</td>\n",
       "      <td>363</td>\n",
       "      <td>7615</td>\n",
       "      <td>5944</td>\n",
       "      <td>2024-06-06T17:42:05.000Z</td>\n",
       "      <td>27</td>\n",
       "      <td>18</td>\n",
       "      <td>Discovery</td>\n",
       "      <td>T1087;T1087.002</td>\n",
       "      <td>BenignPositive</td>\n",
       "      <td>...</td>\n",
       "      <td>Suspicious</td>\n",
       "      <td>5</td>\n",
       "      <td>66</td>\n",
       "      <td>NaN</td>\n",
       "      <td>NaN</td>\n",
       "      <td>NaN</td>\n",
       "      <td>242</td>\n",
       "      <td>1445</td>\n",
       "      <td>10630</td>\n",
       "      <td>Public</td>\n",
       "    </tr>\n",
       "  </tbody>\n",
       "</table>\n",
       "<p>5 rows × 46 columns</p>\n",
       "</div>"
      ],
      "text/plain": [
       "              Id  OrgId  IncidentId  AlertId                 Timestamp  \\\n",
       "0  1245540519230    657       11767    87199  2024-06-04T22:56:27.000Z   \n",
       "1  1400159342154      3       91158   632273  2024-06-03T12:58:26.000Z   \n",
       "2  1279900255923    145       32247   131719  2024-06-08T03:20:49.000Z   \n",
       "3    60129547292    222       15294   917686  2024-06-12T12:07:31.000Z   \n",
       "4   515396080539    363        7615     5944  2024-06-06T17:42:05.000Z   \n",
       "\n",
       "   DetectorId  AlertTitle           Category                  MitreTechniques  \\\n",
       "0         524         563    LateralMovement      T1021;T1047;T1105;T1569.002   \n",
       "1           2           2  CommandAndControl                              NaN   \n",
       "2        2932       10807    LateralMovement  T1021;T1027.002;T1027.005;T1105   \n",
       "3           0           0      InitialAccess                  T1078;T1078.004   \n",
       "4          27          18          Discovery                  T1087;T1087.002   \n",
       "\n",
       "    IncidentGrade  ...       Roles OSFamily OSVersion AntispamDirection  \\\n",
       "0  BenignPositive  ...         NaN        5        66               NaN   \n",
       "1  BenignPositive  ...         NaN        0         0               NaN   \n",
       "2  BenignPositive  ...         NaN        5        66               NaN   \n",
       "3   FalsePositive  ...         NaN        5        66               NaN   \n",
       "4  BenignPositive  ...  Suspicious        5        66               NaN   \n",
       "\n",
       "   SuspicionLevel  LastVerdict  CountryCode  State   City    Usage  \n",
       "0      Suspicious   Suspicious          242   1445  10630  Private  \n",
       "1      Suspicious   Suspicious          242   1445  10630   Public  \n",
       "2      Suspicious   Suspicious          242   1445  10630   Public  \n",
       "3             NaN          NaN          242   1445  10630   Public  \n",
       "4             NaN          NaN          242   1445  10630   Public  \n",
       "\n",
       "[5 rows x 46 columns]"
      ]
     },
     "execution_count": 2,
     "metadata": {},
     "output_type": "execute_result"
    }
   ],
   "source": [
    "df.head()"
   ]
  },
  {
   "cell_type": "markdown",
   "metadata": {},
   "source": [
    "# Data Preprocessing"
   ]
  },
  {
   "cell_type": "markdown",
   "metadata": {},
   "source": [
    "### Handling Missing Values"
   ]
  },
  {
   "cell_type": "code",
   "execution_count": 3,
   "metadata": {},
   "outputs": [],
   "source": [
    "missing_threshold = 0.5  # set the threshold for missing values\n",
    "\n",
    "# 1. Remove columns with more than 50% of missing values\n",
    "missing_percentage = df.isnull().mean()\n",
    "columns_to_drop = missing_percentage[missing_percentage > missing_threshold].index\n",
    "df.drop(columns=columns_to_drop, inplace=True)"
   ]
  },
  {
   "cell_type": "code",
   "execution_count": 4,
   "metadata": {},
   "outputs": [
    {
     "data": {
      "text/plain": [
       "Id                    0\n",
       "OrgId                 0\n",
       "IncidentId            0\n",
       "AlertId               0\n",
       "Timestamp             0\n",
       "DetectorId            0\n",
       "AlertTitle            0\n",
       "Category              0\n",
       "IncidentGrade         0\n",
       "EntityType            0\n",
       "EvidenceRole          0\n",
       "DeviceId              0\n",
       "Sha256                0\n",
       "IpAddress             0\n",
       "Url                   0\n",
       "AccountSid            0\n",
       "AccountUpn            0\n",
       "AccountObjectId       0\n",
       "AccountName           0\n",
       "DeviceName            0\n",
       "NetworkMessageId      0\n",
       "RegistryKey           0\n",
       "RegistryValueName     0\n",
       "RegistryValueData     0\n",
       "ApplicationId         0\n",
       "ApplicationName       0\n",
       "OAuthApplicationId    0\n",
       "FileName              0\n",
       "FolderPath            0\n",
       "ResourceIdName        0\n",
       "OSFamily              0\n",
       "OSVersion             0\n",
       "CountryCode           0\n",
       "State                 0\n",
       "City                  0\n",
       "Usage                 0\n",
       "dtype: int64"
      ]
     },
     "execution_count": 4,
     "metadata": {},
     "output_type": "execute_result"
    }
   ],
   "source": [
    "df.isnull().sum()"
   ]
  },
  {
   "cell_type": "code",
   "execution_count": 5,
   "metadata": {},
   "outputs": [],
   "source": [
    "# remove duplicates\n",
    "df.drop_duplicates(inplace=True)    "
   ]
  },
  {
   "cell_type": "markdown",
   "metadata": {},
   "source": [
    "### Feature Engineering"
   ]
  },
  {
   "cell_type": "code",
   "execution_count": 6,
   "metadata": {},
   "outputs": [],
   "source": [
    "df.drop(columns=['Usage','Url'], inplace=True)    # drop the 'Usage and Url' column"
   ]
  },
  {
   "cell_type": "code",
   "execution_count": 7,
   "metadata": {},
   "outputs": [
    {
     "name": "stdout",
     "output_type": "stream",
     "text": [
      "Constant Features: []\n"
     ]
    }
   ],
   "source": [
    "cols = df.columns.tolist()    # columns in the dataframe\n",
    "cols.remove('IncidentGrade')\n",
    "\n",
    "constant_features = [col for col in cols if df[col].nunique() == 1]    # finding the constant features\n",
    "print(\"Constant Features:\", constant_features)\n",
    "df.drop(columns=constant_features, inplace=True)    # dropping the constant features"
   ]
  },
  {
   "cell_type": "code",
   "execution_count": 8,
   "metadata": {},
   "outputs": [],
   "source": [
    "cols = df.columns.tolist()\n",
    "df[cols] = df[cols].astype('category')\n",
    "cols.remove('IncidentGrade')\n",
    "\n",
    "# converting the timestamp column to datetime format\n",
    "df['Timestamp'] = pd.to_datetime(df['Timestamp'])   \n",
    "\n",
    "df['Year'] = df['Timestamp'].dt.year\n",
    "df['Month'] = df['Timestamp'].dt.month\n",
    "df['Day'] = df['Timestamp'].dt.day\n",
    "df['Hour'] = df['Timestamp'].dt.hour\n",
    "df['Minute'] = df['Timestamp'].dt.minute\n",
    "df['Second'] = df['Timestamp'].dt.second\n",
    "\n",
    "df.drop(columns=['Timestamp'], inplace=True)    # dropping the timestamp column\n",
    "cols.remove('Timestamp')"
   ]
  },
  {
   "cell_type": "code",
   "execution_count": 9,
   "metadata": {},
   "outputs": [
    {
     "data": {
      "text/plain": [
       "Id                    category\n",
       "OrgId                 category\n",
       "IncidentId            category\n",
       "AlertId               category\n",
       "DetectorId            category\n",
       "AlertTitle            category\n",
       "Category              category\n",
       "IncidentGrade         category\n",
       "EntityType            category\n",
       "EvidenceRole          category\n",
       "DeviceId              category\n",
       "Sha256                category\n",
       "IpAddress             category\n",
       "AccountSid            category\n",
       "AccountUpn            category\n",
       "AccountObjectId       category\n",
       "AccountName           category\n",
       "DeviceName            category\n",
       "NetworkMessageId      category\n",
       "RegistryKey           category\n",
       "RegistryValueName     category\n",
       "RegistryValueData     category\n",
       "ApplicationId         category\n",
       "ApplicationName       category\n",
       "OAuthApplicationId    category\n",
       "FileName              category\n",
       "FolderPath            category\n",
       "ResourceIdName        category\n",
       "OSFamily              category\n",
       "OSVersion             category\n",
       "CountryCode           category\n",
       "State                 category\n",
       "City                  category\n",
       "Year                     int32\n",
       "Month                    int32\n",
       "Day                      int32\n",
       "Hour                     int32\n",
       "Minute                   int32\n",
       "Second                   int32\n",
       "dtype: object"
      ]
     },
     "execution_count": 9,
     "metadata": {},
     "output_type": "execute_result"
    }
   ],
   "source": [
    "df.dtypes"
   ]
  },
  {
   "cell_type": "code",
   "execution_count": 10,
   "metadata": {},
   "outputs": [
    {
     "data": {
      "text/plain": [
       "(3922695, 39)"
      ]
     },
     "execution_count": 10,
     "metadata": {},
     "output_type": "execute_result"
    }
   ],
   "source": [
    "df.shape"
   ]
  },
  {
   "cell_type": "markdown",
   "metadata": {},
   "source": [
    "### Encoding Catagorical Variables\n"
   ]
  },
  {
   "cell_type": "markdown",
   "metadata": {},
   "source": [
    "One-hot Encoding for all classes"
   ]
  },
  {
   "cell_type": "code",
   "execution_count": 11,
   "metadata": {},
   "outputs": [],
   "source": [
    "import pickle\n",
    "\n",
    "# Load `top_1_value_dict` and `top_3_values_dict` from files\n",
    "with open('../Resources/top_1_value_dict.pkl', 'rb') as f:\n",
    "    top_1_value_dict = pickle.load(f)\n",
    "\n",
    "with open('../Resources/top_3_values_dict.pkl', 'rb') as f:\n",
    "    top_3_values_dict = pickle.load(f)\n",
    "\n",
    "# Extract keys for top values\n",
    "top_1_values = list(top_1_value_dict.keys())\n",
    "top_3_values = list(top_3_values_dict.keys())"
   ]
  },
  {
   "cell_type": "code",
   "execution_count": 12,
   "metadata": {},
   "outputs": [
    {
     "name": "stdout",
     "output_type": "stream",
     "text": [
      "Filtered top_1_value_dict: {'EvidenceRole': ['Related'], 'DeviceId': [98799], 'Sha256': [138268], 'IpAddress': [360606], 'AccountSid': [441377], 'AccountUpn': [673934], 'AccountObjectId': [425863], 'AccountName': [453297], 'DeviceName': [153085], 'NetworkMessageId': [529644], 'RegistryKey': [1631], 'RegistryValueName': [635], 'RegistryValueData': [860], 'OAuthApplicationId': [881], 'FileName': [289573], 'ResourceIdName': [3586], 'OSVersion': [66]}\n",
      "Filtered top_3_values_dict: {'Id': [1, 1783], 'OrgId': [0, 2, 1], 'IncidentId': [9], 'AlertId': [0, 2], 'DetectorId': [0, 2, 3], 'AlertTitle': [0, 2, 1], 'Category': ['InitialAccess', 'Exfiltration', 'SuspiciousActivity'], 'EntityType': ['Ip', 'User', 'MailMessage'], 'ApplicationId': [2251, 0, 1], 'ApplicationName': [3421, 0, 1], 'FolderPath': [117668, 0, 1], 'OSFamily': [5, 0, 1], 'CountryCode': [242, 0, 1], 'State': [1445, 0, 1], 'City': [10630, 0, 1]}\n"
     ]
    }
   ],
   "source": [
    "# Filter top unique values based on their presence in the test dataset\n",
    "filtered_top_1_value_dict = {}\n",
    "filtered_top_3_values_dict = {}\n",
    "\n",
    "# Check top_1_value_dict\n",
    "for col, top_values in top_1_value_dict.items():\n",
    "    if col in df.columns:  # Ensure the column exists in the test dataset\n",
    "        filtered_values = [val for val in top_values if val in df[col].unique()]\n",
    "        if filtered_values:  # Only keep columns with valid top values\n",
    "            filtered_top_1_value_dict[col] = filtered_values\n",
    "\n",
    "# Check top_3_values_dict\n",
    "for col, top_values in top_3_values_dict.items():\n",
    "    if col in df.columns:  # Ensure the column exists in the test dataset\n",
    "        filtered_values = [val for val in top_values if val in df[col].unique()]\n",
    "        if filtered_values:  # Only keep columns with valid top values\n",
    "            filtered_top_3_values_dict[col] = filtered_values\n",
    "\n",
    "# Output the filtered dictionaries\n",
    "print(\"Filtered top_1_value_dict:\", filtered_top_1_value_dict)\n",
    "print(\"Filtered top_3_values_dict:\", filtered_top_3_values_dict)"
   ]
  },
  {
   "cell_type": "code",
   "execution_count": 13,
   "metadata": {},
   "outputs": [],
   "source": [
    "del filtered_top_3_values_dict['Id']\n",
    "del filtered_top_3_values_dict['IncidentId']\n",
    "del filtered_top_3_values_dict['AlertId']\n",
    "df.drop(columns=['Id', 'IncidentId', 'AlertId'], inplace=True)"
   ]
  },
  {
   "cell_type": "code",
   "execution_count": 14,
   "metadata": {},
   "outputs": [],
   "source": [
    "# Initialize a list to store encoded DataFrames\n",
    "encoded_dataframes = []\n",
    "\n",
    "# One-hot encode using filtered top 1 values\n",
    "for col, top_values in filtered_top_1_value_dict.items():\n",
    "    if col in df.columns:\n",
    "        # Create a temporary column with 'others' for lesser-used categories\n",
    "        temp_col = df[col].apply(lambda x: x if x in top_values else \"Others\")\n",
    "        encoded_df = pd.get_dummies(temp_col, prefix=col)\n",
    "        encoded_dataframes.append(encoded_df)\n",
    "\n",
    "# One-hot encode using filtered top 3 values\n",
    "for col, top_values in filtered_top_3_values_dict.items():\n",
    "    if col in df.columns:\n",
    "        # Create a temporary column with 'others' for lesser-used categories\n",
    "        temp_col = df[col].apply(lambda x: x if x in top_values else \"Others\")\n",
    "        encoded_df = pd.get_dummies(temp_col, prefix=col)\n",
    "        encoded_dataframes.append(encoded_df)    \n",
    "\n",
    "\n",
    "# Combine the original DataFrame with all encoded DataFrames\n",
    "df_encoded = pd.concat([df] + encoded_dataframes, axis=1)\n",
    "\n",
    "# Drop the original columns that were encoded\n",
    "df_encoded = df_encoded.drop(columns=list(filtered_top_1_value_dict.keys()) + list(filtered_top_3_values_dict.keys()))"
   ]
  },
  {
   "cell_type": "code",
   "execution_count": 15,
   "metadata": {},
   "outputs": [
    {
     "data": {
      "text/plain": [
       "(3922695, 89)"
      ]
     },
     "execution_count": 15,
     "metadata": {},
     "output_type": "execute_result"
    }
   ],
   "source": [
    "df_encoded.shape"
   ]
  },
  {
   "cell_type": "markdown",
   "metadata": {},
   "source": [
    "Custom mapping for Target class"
   ]
  },
  {
   "cell_type": "code",
   "execution_count": 16,
   "metadata": {},
   "outputs": [
    {
     "data": {
      "text/plain": [
       "IncidentGrade\n",
       "BenignPositive    1630942\n",
       "TruePositive      1422856\n",
       "FalsePositive      868897\n",
       "Name: count, dtype: int64"
      ]
     },
     "execution_count": 16,
     "metadata": {},
     "output_type": "execute_result"
    }
   ],
   "source": [
    "df_encoded['IncidentGrade'].value_counts()    # checking the value counts of the target column"
   ]
  },
  {
   "cell_type": "code",
   "execution_count": 17,
   "metadata": {},
   "outputs": [],
   "source": [
    "custom_mapping = {\n",
    "    'BenignPositive': 0,\n",
    "    'TruePositive': 1,\n",
    "    'FalsePositive': 2\n",
    "}\n",
    "df_encoded['IncidentGrade'] = df_encoded['IncidentGrade'].map(custom_mapping)"
   ]
  },
  {
   "cell_type": "markdown",
   "metadata": {},
   "source": [
    "# Load the model and test on the GUIDE_TEST dataset"
   ]
  },
  {
   "cell_type": "code",
   "execution_count": 20,
   "metadata": {},
   "outputs": [
    {
     "name": "stdout",
     "output_type": "stream",
     "text": [
      "Model Performance on Test Set:\n",
      "Macro-F1 Score: 0.6107\n",
      "Precision: 0.6140\n",
      "Recall: 0.6095\n",
      "Accuracy: 0.6328\n",
      "Classification R eport:\n",
      "              precision    recall  f1-score   support\n",
      "\n",
      "           0       0.65      0.69      0.67   1630942\n",
      "           1       0.74      0.66      0.70   1422856\n",
      "           2       0.46      0.48      0.47    868897\n",
      "\n",
      "    accuracy                           0.63   3922695\n",
      "   macro avg       0.61      0.61      0.61   3922695\n",
      "weighted avg       0.64      0.63      0.63   3922695\n",
      "\n"
     ]
    }
   ],
   "source": [
    "from sklearn.metrics import f1_score, precision_score, recall_score, accuracy_score, classification_report\n",
    "\n",
    "# Load the model from the file\n",
    "model = pickle.load(open('../Resources/best_model.pkl', 'rb'))\n",
    "\n",
    "X = df_encoded.drop(columns=['IncidentGrade'])    # defining the features\n",
    "y = df_encoded['IncidentGrade']    # defining the target variable\n",
    "\n",
    "# Predict the target variable\n",
    "y_pred = model.predict(X)\n",
    "\n",
    "# Evaluate performance\n",
    "print(\"Model Performance on Test Set:\")\n",
    "print(f\"Macro-F1 Score: {f1_score(y, y_pred, average='macro'):.4f}\")\n",
    "print(f\"Precision: {precision_score(y, y_pred, average='macro'):.4f}\")\n",
    "print(f\"Recall: {recall_score(y, y_pred, average='macro'):.4f}\")\n",
    "print(f\"Accuracy: {accuracy_score(y, y_pred):.4f}\")\n",
    "print(\"Classification R eport:\")\n",
    "print(classification_report(y, y_pred))"
   ]
  }
 ],
 "metadata": {
  "kernelspec": {
   "display_name": "myenv",
   "language": "python",
   "name": "python3"
  },
  "language_info": {
   "codemirror_mode": {
    "name": "ipython",
    "version": 3
   },
   "file_extension": ".py",
   "mimetype": "text/x-python",
   "name": "python",
   "nbconvert_exporter": "python",
   "pygments_lexer": "ipython3",
   "version": "3.13.0"
  }
 },
 "nbformat": 4,
 "nbformat_minor": 2
}
