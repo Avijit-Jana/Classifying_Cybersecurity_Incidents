{
 "cells": [
  {
   "cell_type": "markdown",
   "metadata": {},
   "source": [
    "# Loading the GUIDE_Train Dataset"
   ]
  },
  {
   "cell_type": "code",
   "execution_count": 1,
   "metadata": {
    "colab": {
     "base_uri": "https://localhost:8080/"
    },
    "id": "3qbE-4ZdtY7N",
    "outputId": "150e2d3c-afbb-46e9-a049-df0f1e14daeb"
   },
   "outputs": [
    {
     "data": {
      "text/html": [
       "<div>\n",
       "<style scoped>\n",
       "    .dataframe tbody tr th:only-of-type {\n",
       "        vertical-align: middle;\n",
       "    }\n",
       "\n",
       "    .dataframe tbody tr th {\n",
       "        vertical-align: top;\n",
       "    }\n",
       "\n",
       "    .dataframe thead th {\n",
       "        text-align: right;\n",
       "    }\n",
       "</style>\n",
       "<table border=\"1\" class=\"dataframe\">\n",
       "  <thead>\n",
       "    <tr style=\"text-align: right;\">\n",
       "      <th></th>\n",
       "      <th>Id</th>\n",
       "      <th>OrgId</th>\n",
       "      <th>IncidentId</th>\n",
       "      <th>AlertId</th>\n",
       "      <th>Timestamp</th>\n",
       "      <th>DetectorId</th>\n",
       "      <th>AlertTitle</th>\n",
       "      <th>Category</th>\n",
       "      <th>MitreTechniques</th>\n",
       "      <th>IncidentGrade</th>\n",
       "      <th>...</th>\n",
       "      <th>ResourceType</th>\n",
       "      <th>Roles</th>\n",
       "      <th>OSFamily</th>\n",
       "      <th>OSVersion</th>\n",
       "      <th>AntispamDirection</th>\n",
       "      <th>SuspicionLevel</th>\n",
       "      <th>LastVerdict</th>\n",
       "      <th>CountryCode</th>\n",
       "      <th>State</th>\n",
       "      <th>City</th>\n",
       "    </tr>\n",
       "  </thead>\n",
       "  <tbody>\n",
       "    <tr>\n",
       "      <th>0</th>\n",
       "      <td>1786</td>\n",
       "      <td>0</td>\n",
       "      <td>612</td>\n",
       "      <td>123247</td>\n",
       "      <td>2024-06-04T06:05:15.000Z</td>\n",
       "      <td>7</td>\n",
       "      <td>6</td>\n",
       "      <td>InitialAccess</td>\n",
       "      <td>NaN</td>\n",
       "      <td>TruePositive</td>\n",
       "      <td>...</td>\n",
       "      <td>NaN</td>\n",
       "      <td>NaN</td>\n",
       "      <td>5</td>\n",
       "      <td>66</td>\n",
       "      <td>NaN</td>\n",
       "      <td>NaN</td>\n",
       "      <td>NaN</td>\n",
       "      <td>31</td>\n",
       "      <td>6</td>\n",
       "      <td>3</td>\n",
       "    </tr>\n",
       "    <tr>\n",
       "      <th>1</th>\n",
       "      <td>1492</td>\n",
       "      <td>88</td>\n",
       "      <td>326</td>\n",
       "      <td>210035</td>\n",
       "      <td>2024-06-14T03:01:25.000Z</td>\n",
       "      <td>58</td>\n",
       "      <td>43</td>\n",
       "      <td>Exfiltration</td>\n",
       "      <td>NaN</td>\n",
       "      <td>FalsePositive</td>\n",
       "      <td>...</td>\n",
       "      <td>NaN</td>\n",
       "      <td>NaN</td>\n",
       "      <td>5</td>\n",
       "      <td>66</td>\n",
       "      <td>NaN</td>\n",
       "      <td>NaN</td>\n",
       "      <td>NaN</td>\n",
       "      <td>242</td>\n",
       "      <td>1445</td>\n",
       "      <td>10630</td>\n",
       "    </tr>\n",
       "    <tr>\n",
       "      <th>2</th>\n",
       "      <td>2573</td>\n",
       "      <td>809</td>\n",
       "      <td>58352</td>\n",
       "      <td>712507</td>\n",
       "      <td>2024-06-13T04:52:55.000Z</td>\n",
       "      <td>423</td>\n",
       "      <td>298</td>\n",
       "      <td>InitialAccess</td>\n",
       "      <td>T1189</td>\n",
       "      <td>FalsePositive</td>\n",
       "      <td>...</td>\n",
       "      <td>NaN</td>\n",
       "      <td>NaN</td>\n",
       "      <td>5</td>\n",
       "      <td>66</td>\n",
       "      <td>NaN</td>\n",
       "      <td>Suspicious</td>\n",
       "      <td>Suspicious</td>\n",
       "      <td>242</td>\n",
       "      <td>1445</td>\n",
       "      <td>10630</td>\n",
       "    </tr>\n",
       "    <tr>\n",
       "      <th>3</th>\n",
       "      <td>4528</td>\n",
       "      <td>92</td>\n",
       "      <td>32992</td>\n",
       "      <td>774301</td>\n",
       "      <td>2024-06-10T16:39:36.000Z</td>\n",
       "      <td>2</td>\n",
       "      <td>2</td>\n",
       "      <td>CommandAndControl</td>\n",
       "      <td>NaN</td>\n",
       "      <td>BenignPositive</td>\n",
       "      <td>...</td>\n",
       "      <td>NaN</td>\n",
       "      <td>NaN</td>\n",
       "      <td>5</td>\n",
       "      <td>66</td>\n",
       "      <td>NaN</td>\n",
       "      <td>Suspicious</td>\n",
       "      <td>Suspicious</td>\n",
       "      <td>242</td>\n",
       "      <td>1445</td>\n",
       "      <td>10630</td>\n",
       "    </tr>\n",
       "    <tr>\n",
       "      <th>4</th>\n",
       "      <td>3722</td>\n",
       "      <td>148</td>\n",
       "      <td>4359</td>\n",
       "      <td>188041</td>\n",
       "      <td>2024-06-15T01:08:07.000Z</td>\n",
       "      <td>9</td>\n",
       "      <td>74</td>\n",
       "      <td>Execution</td>\n",
       "      <td>NaN</td>\n",
       "      <td>TruePositive</td>\n",
       "      <td>...</td>\n",
       "      <td>NaN</td>\n",
       "      <td>NaN</td>\n",
       "      <td>5</td>\n",
       "      <td>66</td>\n",
       "      <td>NaN</td>\n",
       "      <td>NaN</td>\n",
       "      <td>NaN</td>\n",
       "      <td>242</td>\n",
       "      <td>1445</td>\n",
       "      <td>10630</td>\n",
       "    </tr>\n",
       "  </tbody>\n",
       "</table>\n",
       "<p>5 rows × 45 columns</p>\n",
       "</div>"
      ],
      "text/plain": [
       "     Id  OrgId  IncidentId  AlertId                 Timestamp  DetectorId  \\\n",
       "0  1786      0         612   123247  2024-06-04T06:05:15.000Z           7   \n",
       "1  1492     88         326   210035  2024-06-14T03:01:25.000Z          58   \n",
       "2  2573    809       58352   712507  2024-06-13T04:52:55.000Z         423   \n",
       "3  4528     92       32992   774301  2024-06-10T16:39:36.000Z           2   \n",
       "4  3722    148        4359   188041  2024-06-15T01:08:07.000Z           9   \n",
       "\n",
       "   AlertTitle           Category MitreTechniques   IncidentGrade  ...  \\\n",
       "0           6      InitialAccess             NaN    TruePositive  ...   \n",
       "1          43       Exfiltration             NaN   FalsePositive  ...   \n",
       "2         298      InitialAccess           T1189   FalsePositive  ...   \n",
       "3           2  CommandAndControl             NaN  BenignPositive  ...   \n",
       "4          74          Execution             NaN    TruePositive  ...   \n",
       "\n",
       "  ResourceType Roles OSFamily OSVersion  AntispamDirection  SuspicionLevel  \\\n",
       "0          NaN   NaN        5        66                NaN             NaN   \n",
       "1          NaN   NaN        5        66                NaN             NaN   \n",
       "2          NaN   NaN        5        66                NaN      Suspicious   \n",
       "3          NaN   NaN        5        66                NaN      Suspicious   \n",
       "4          NaN   NaN        5        66                NaN             NaN   \n",
       "\n",
       "   LastVerdict  CountryCode  State   City  \n",
       "0          NaN           31      6      3  \n",
       "1          NaN          242   1445  10630  \n",
       "2   Suspicious          242   1445  10630  \n",
       "3   Suspicious          242   1445  10630  \n",
       "4          NaN          242   1445  10630  \n",
       "\n",
       "[5 rows x 45 columns]"
      ]
     },
     "execution_count": 1,
     "metadata": {},
     "output_type": "execute_result"
    }
   ],
   "source": [
    "import pandas as pd\n",
    "import numpy as np\n",
    "\n",
    "def optimize_memory(df):\n",
    "    \n",
    "    for col in df.columns:\n",
    "        col_type = df[col].dtypes\n",
    "        if col_type == 'int64':\n",
    "            df[col] = df[col].astype('int32')\n",
    "        elif col_type == 'float64':\n",
    "            df[col] = df[col].astype('float32')\n",
    "        elif col_type == 'object':  # For string-based data\n",
    "            df[col] = df[col].astype('category')\n",
    "    return df\n",
    "\n",
    "# Load the dataset in chunks to avoid memory issues\n",
    "chunks = []\n",
    "file_path = '../Project Info/Dataset/GUIDE_Train.csv'\n",
    "for chunk in pd.read_csv(file_path, chunksize=500000, low_memory=False):\n",
    "    # Optimize memory usage for each chunk\n",
    "    chunk = optimize_memory(chunk) \n",
    "    chunks.append(chunk)\n",
    "\n",
    "# Concatenate all chunks into a single DataFrame\n",
    "df = pd.concat(chunks, ignore_index=True)\n",
    "\n",
    "# Clean up memory by deleting the list of chunks\n",
    "del chunks\n",
    "\n",
    "# Display the first few rows of the optimized DataFrame\n",
    "df.head()"
   ]
  },
  {
   "cell_type": "markdown",
   "metadata": {},
   "source": [
    "# Handling Missing Values"
   ]
  },
  {
   "cell_type": "code",
   "execution_count": 2,
   "metadata": {},
   "outputs": [],
   "source": [
    "missing_threshold = 0.5  # set the threshold for missing values\n",
    "\n",
    "# 1. Remove columns with more than 50% of missing values\n",
    "missing_percentage = df.isnull().mean()\n",
    "columns_to_drop = missing_percentage[missing_percentage > missing_threshold].index\n",
    "df.drop(columns=columns_to_drop, inplace=True)"
   ]
  },
  {
   "cell_type": "code",
   "execution_count": 3,
   "metadata": {},
   "outputs": [
    {
     "data": {
      "text/plain": [
       "Id                        0\n",
       "OrgId                     0\n",
       "IncidentId                0\n",
       "AlertId                   0\n",
       "Timestamp                 0\n",
       "DetectorId                0\n",
       "AlertTitle                0\n",
       "Category                  0\n",
       "IncidentGrade         51340\n",
       "EntityType                0\n",
       "EvidenceRole              0\n",
       "DeviceId                  0\n",
       "Sha256                    0\n",
       "IpAddress                 0\n",
       "Url                       0\n",
       "AccountSid                0\n",
       "AccountUpn                0\n",
       "AccountObjectId           0\n",
       "AccountName               0\n",
       "DeviceName                0\n",
       "NetworkMessageId          0\n",
       "RegistryKey               0\n",
       "RegistryValueName         0\n",
       "RegistryValueData         0\n",
       "ApplicationId             0\n",
       "ApplicationName           0\n",
       "OAuthApplicationId        0\n",
       "FileName                  0\n",
       "FolderPath                0\n",
       "ResourceIdName            0\n",
       "OSFamily                  0\n",
       "OSVersion                 0\n",
       "CountryCode               0\n",
       "State                     0\n",
       "City                      0\n",
       "dtype: int64"
      ]
     },
     "execution_count": 3,
     "metadata": {},
     "output_type": "execute_result"
    }
   ],
   "source": [
    "df.isnull().sum()"
   ]
  },
  {
   "cell_type": "code",
   "execution_count": 5,
   "metadata": {},
   "outputs": [],
   "source": [
    "df = df.dropna(subset=['IncidentGrade'])    # drop missing target values"
   ]
  },
  {
   "cell_type": "code",
   "execution_count": 6,
   "metadata": {},
   "outputs": [],
   "source": [
    "# remove duplicates\n",
    "df.drop_duplicates(inplace=True)    "
   ]
  },
  {
   "cell_type": "markdown",
   "metadata": {},
   "source": [
    "# Changing Datatypes"
   ]
  },
  {
   "cell_type": "code",
   "execution_count": 7,
   "metadata": {},
   "outputs": [],
   "source": [
    "cols = df.columns.tolist()\n",
    "df[cols] = df[cols].astype('category')\n",
    "cols.remove('IncidentGrade')"
   ]
  },
  {
   "cell_type": "code",
   "execution_count": 8,
   "metadata": {},
   "outputs": [],
   "source": [
    "df['Timestamp'] = pd.to_datetime(df['Timestamp'], errors='coerce')   # converting the timestamp column to datetime format\n",
    "\n",
    "df['Year'] = df['Timestamp'].dt.year\n",
    "df['Month'] = df['Timestamp'].dt.month\n",
    "df['Day'] = df['Timestamp'].dt.day\n",
    "df['Hour'] = df['Timestamp'].dt.hour\n",
    "df['Minute'] = df['Timestamp'].dt.minute\n",
    "df['Second'] = df['Timestamp'].dt.second\n",
    "\n",
    "df.drop(columns=['Timestamp'], inplace=True)    # dropping the timestamp column\n",
    "cols.remove('Timestamp')"
   ]
  },
  {
   "cell_type": "code",
   "execution_count": 10,
   "metadata": {},
   "outputs": [
    {
     "data": {
      "text/plain": [
       "Id                    category\n",
       "OrgId                 category\n",
       "IncidentId            category\n",
       "AlertId               category\n",
       "DetectorId            category\n",
       "AlertTitle            category\n",
       "Category              category\n",
       "IncidentGrade         category\n",
       "EntityType            category\n",
       "EvidenceRole          category\n",
       "DeviceId              category\n",
       "Sha256                category\n",
       "IpAddress             category\n",
       "Url                   category\n",
       "AccountSid            category\n",
       "AccountUpn            category\n",
       "AccountObjectId       category\n",
       "AccountName           category\n",
       "DeviceName            category\n",
       "NetworkMessageId      category\n",
       "RegistryKey           category\n",
       "RegistryValueName     category\n",
       "RegistryValueData     category\n",
       "ApplicationId         category\n",
       "ApplicationName       category\n",
       "OAuthApplicationId    category\n",
       "FileName              category\n",
       "FolderPath            category\n",
       "ResourceIdName        category\n",
       "OSFamily              category\n",
       "OSVersion             category\n",
       "CountryCode           category\n",
       "State                 category\n",
       "City                  category\n",
       "Year                     int32\n",
       "Month                    int32\n",
       "Day                      int32\n",
       "Hour                     int32\n",
       "Minute                   int32\n",
       "Second                   int32\n",
       "dtype: object"
      ]
     },
     "execution_count": 10,
     "metadata": {},
     "output_type": "execute_result"
    }
   ],
   "source": [
    "df.dtypes"
   ]
  },
  {
   "cell_type": "markdown",
   "metadata": {},
   "source": [
    "# Feature Engineering"
   ]
  },
  {
   "cell_type": "code",
   "execution_count": 11,
   "metadata": {},
   "outputs": [
    {
     "name": "stdout",
     "output_type": "stream",
     "text": [
      "Constant Features: []\n"
     ]
    }
   ],
   "source": [
    "constant_features = [col for col in cols if df[col].nunique() == 1]    # finding the constant features\n",
    "print(\"Constant Features:\", constant_features)\n",
    "df.drop(columns=constant_features, inplace=True)    # dropping the constant features"
   ]
  },
  {
   "cell_type": "code",
   "execution_count": 12,
   "metadata": {},
   "outputs": [
    {
     "name": "stdout",
     "output_type": "stream",
     "text": [
      "Categorical Features Kept: ['Id', 'OrgId', 'IncidentId', 'AlertId', 'DetectorId', 'AlertTitle', 'Category', 'EntityType', 'EvidenceRole', 'DeviceId', 'Sha256', 'IpAddress', 'Url', 'AccountSid', 'AccountUpn', 'AccountObjectId', 'AccountName', 'DeviceName', 'NetworkMessageId', 'RegistryKey', 'RegistryValueName', 'RegistryValueData', 'ApplicationId', 'ApplicationName', 'OAuthApplicationId', 'FileName', 'FolderPath', 'ResourceIdName', 'OSFamily', 'OSVersion', 'CountryCode', 'State', 'City']\n",
      "Categorical Features Dropped: []\n"
     ]
    }
   ],
   "source": [
    "from scipy.stats import chi2_contingency\n",
    "\n",
    "significance_level = 0.05   # setting the significance level\n",
    "categorical_to_keep = []\n",
    "categorical_to_drop = []\n",
    "target = 'IncidentGrade'    # target column\n",
    "\n",
    "for col in cols:\n",
    "    # Create contingency table\n",
    "    contingency_table = pd.crosstab(df[col], df[target])\n",
    "    chi2_stat, p_value, dof, expected = chi2_contingency(contingency_table)     # performing the chi2 test\n",
    "    \n",
    "    # Keep or drop feature based on p-value\n",
    "    if p_value < significance_level:\n",
    "        categorical_to_keep.append(col)\n",
    "    else:\n",
    "        categorical_to_drop.append(col)\n",
    "\n",
    "print(f\"Categorical Features Kept: {categorical_to_keep}\")\n",
    "print(f\"Categorical Features Dropped: {categorical_to_drop}\")"
   ]
  },
  {
   "cell_type": "markdown",
   "metadata": {},
   "source": [
    "# Encoding Catagorical Variables"
   ]
  },
  {
   "cell_type": "markdown",
   "metadata": {},
   "source": [
    "One-hot Encoding for all classes"
   ]
  },
  {
   "cell_type": "code",
   "execution_count": 13,
   "metadata": {},
   "outputs": [],
   "source": [
    "cols_for_top_1_values = ['EvidenceRole','DeviceId','Sha256','IpAddress','AccountSid','AccountUpn','AccountObjectId','AccountName','DeviceName','NetworkMessageId','RegistryKey','RegistryValueName','RegistryValueData','OAuthApplicationId','FileName','ResourceIdName','OSVersion']\n",
    "\n",
    "# Initialize dictionaries to store top values\n",
    "top_1_value_dict = {}\n",
    "top_3_values_dict = {}\n",
    "\n",
    "# Lists to store encoded DataFrames\n",
    "encoded_dataframes1 = []\n",
    "encoded_dataframes2 = []\n",
    "\n",
    "# Process columns\n",
    "for col in cols:\n",
    "    # Handle top 1 values for specific columns\n",
    "    if col in cols_for_top_1_values:\n",
    "        # Get top 1 most frequent value in the column\n",
    "        top_1_value = df[col].value_counts().nlargest(1).index.tolist()\n",
    "        top_1_value_dict[col] = top_1_value  # Save to dictionary\n",
    "\n",
    "        # Create a temporary column for top 1 values\n",
    "        temp_col1 = df[col].apply(lambda x: x if x in top_1_value else \"Others\")\n",
    "\n",
    "        # Perform one-hot encoding\n",
    "        encoded_df1 = pd.get_dummies(temp_col1, prefix=col)\n",
    "        encoded_dataframes1.append(encoded_df1)\n",
    "    \n",
    "    # Handle top 3 values for other columns\n",
    "    else:\n",
    "        # Get top 3 most frequent values in the column\n",
    "        top_3_values = df[col].value_counts().nlargest(3).index.tolist()\n",
    "        top_3_values_dict[col] = top_3_values  # Save to dictionary\n",
    "\n",
    "        # Create a temporary column for top 3 values\n",
    "        temp_col2 = df[col].apply(lambda x: x if x in top_3_values else \"Others\")\n",
    "\n",
    "        # Perform one-hot encoding\n",
    "        encoded_df2 = pd.get_dummies(temp_col2, prefix=col)\n",
    "        encoded_dataframes2.append(encoded_df2)\n",
    "\n",
    "# Combine the original DataFrame with all encoded DataFrames\n",
    "df_encoded = pd.concat([df] + encoded_dataframes1 + encoded_dataframes2, axis=1)\n",
    "\n",
    "# Drop the original columns that were encoded\n",
    "df_encoded.drop(columns=cols, inplace=True)"
   ]
  },
  {
   "cell_type": "code",
   "execution_count": 14,
   "metadata": {},
   "outputs": [],
   "source": [
    "import pickle\n",
    "\n",
    "# Save dictionaries to files\n",
    "with open('../Resources/top_1_value_dict.pkl', 'wb') as f:\n",
    "    pickle.dump(top_1_value_dict, f)\n",
    "\n",
    "with open('../Resources/top_3_values_dict.pkl', 'wb') as f:\n",
    "    pickle.dump(top_3_values_dict, f)\n"
   ]
  },
  {
   "cell_type": "markdown",
   "metadata": {},
   "source": [
    "Custom mapping for Target class"
   ]
  },
  {
   "cell_type": "code",
   "execution_count": 15,
   "metadata": {},
   "outputs": [
    {
     "data": {
      "text/plain": [
       "IncidentGrade\n",
       "BenignPositive    3827800\n",
       "TruePositive      3140126\n",
       "FalsePositive     1954879\n",
       "Name: count, dtype: int64"
      ]
     },
     "execution_count": 15,
     "metadata": {},
     "output_type": "execute_result"
    }
   ],
   "source": [
    "df_encoded['IncidentGrade'].value_counts()    # checking the value counts of the target column"
   ]
  },
  {
   "cell_type": "code",
   "execution_count": 16,
   "metadata": {},
   "outputs": [],
   "source": [
    "custom_mapping = {\n",
    "    'BenignPositive': 0,\n",
    "    'TruePositive': 1,\n",
    "    'FalsePositive': 2\n",
    "}\n",
    "df_encoded[target] = df_encoded[target].map(custom_mapping)"
   ]
  },
  {
   "cell_type": "code",
   "execution_count": 21,
   "metadata": {},
   "outputs": [],
   "source": [
    "# Saving the cleaned dataset\n",
    "df_encoded.to_csv('../Resources/cleaned_data.csv', index=False)    # saving the cleaned data to a csv file"
   ]
  }
 ],
 "metadata": {
  "colab": {
   "authorship_tag": "ABX9TyPbqYDMC1kOYxiUNm4o/pqD",
   "mount_file_id": "112yOxEmQ4qFzNIFMqrmQpOIuO5pdNxzf",
   "provenance": []
  },
  "kernelspec": {
   "display_name": "myenv",
   "language": "python",
   "name": "python3"
  },
  "language_info": {
   "codemirror_mode": {
    "name": "ipython",
    "version": 3
   },
   "file_extension": ".py",
   "mimetype": "text/x-python",
   "name": "python",
   "nbconvert_exporter": "python",
   "pygments_lexer": "ipython3",
   "version": "3.13.0"
  }
 },
 "nbformat": 4,
 "nbformat_minor": 0
}
